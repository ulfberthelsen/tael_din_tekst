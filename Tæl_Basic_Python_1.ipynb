{
 "cells": [
  {
   "cell_type": "markdown",
   "metadata": {},
   "source": [
    "# Tæl din tekst: Basic Python 1\n",
    "***\n",
    "***\n",
    "### Tekst som strings\n",
    "Når vi skal arbejde med tekst i Python, møder vi næsten altid teksten som et `string object`, dvs som en instans af Pythons `string class` (dvs. skabelonen for alle string objects). Så længe teksten har datatypen `string` kan vi foretage forskellige operationen på teksten, ved at anvende forskellige `string methods`. Husk:\n",
    "   \n",
    "   * Strings skrives altid mellem anførselstegn ('_' eller \"_\")\n",
    "   * Python opfatter en `string` som en ubrudt kæde af tegn.\n",
    "   * Python behandler blanktegn, punktummer, kommaer og andre tegn på samme måde som store og små bogstaver, når de optræder i en string.\n",
    "\n",
    "Vi kan enten importere teksten ved at åbne en tekst-fil, vi har gemt på computeren (det kommer vi til senere), eller vi kan taste teksten direkte ind og gemme den midlertidigt under et variabelnavn.\n",
    "\n",
    "I det følgende skal I bruge disse to teksteksempler. Husk at få blank tegn og punktummer med - dem skal vi bruge i en af øvelserne :-) \n",
    "\n",
    "**Teksteksempel 1:**\n",
    "\"...   Computational thinking dækker kort sagt over tænkemåder, der gør os i stand til at handle i verden gennem computere med henblik på at gøre ting vi ellers ikke ville have været i stand til at gøre.\"\n",
    "\n",
    "**Teksteksempel 2:** \"Begrebet computational thinking er ikke nyt, men det blev for alvor sparket ind i uddannelsesdebatten i 2006, da den amerikanske datalogi-professor Jeanette Wing (2006) formulerede et uddannelsespolitisk opråb med henblik på at få flere unge til at søge ind på universiteternes datalogiuddannelser ...\"\n",
    "***\n",
    "### Vigtigt: Det er ok at copy/paste teksteksempler, men det er vigtigt at I selv indtaster kode-eksemplerne, så I får det op gennem fingrene!!\n",
    "***\n",
    "\n",
    "### Opgave 1\n",
    "1. Gem de to tekster under hver sit variabelnavn (variable assignment)\n",
    "    1. Variabelnavne må **ikke** begynde med et tal. Så får I en fejlmelding.\n",
    "    1. Der er ikke rigtige eller forkerte variabelnavne, men det kan ofte være en god idé at give variablerne korte, men meningsfulde navne, fx `tekst_1` og `tekst_2` fremfor `x` og `y`. Det bliver hurtigt svært at huske, hvad de forskellige variabler dækker over, hvis man har mange variabler i spil med navne som `x`, `y`, `z`, `p` og `q`.\n",
    "\n",
    "2. Sammenføj de to teksteksempler (string concatenation) ved hjælp af `+`-operatoren og gem den sammenføjede tekst under et nyt variabelnavn.\n",
    "3. Print den sammenføjede tekst-streng fro at tjekke, at den ser ud som den skal.\n",
    "\n",
    "I skal bruge følgende kode. Find selv på meningsfulde variabelnavne:<br>\n",
    "`variabelnavn_1 = \"Teksteksempel 1\"`<br>\n",
    "`variabelnavn_2 = \"Teksteksempel 2\"`<br>\n",
    "`variabelnavn_3 = variabelnavn_1 + variabelnavn_2`<br>\n",
    "`print(variabelnavn_3)`<br>\n",
    "\n",
    "\n",
    "    "
   ]
  },
  {
   "cell_type": "code",
   "execution_count": null,
   "metadata": {},
   "outputs": [],
   "source": []
  },
  {
   "cell_type": "markdown",
   "metadata": {},
   "source": [
    "### Opgave 2\n",
    "Når vi skal analysere digitale tekster, er det ofte nødvendigt at rense og formattere teksterne på forskellige måder. Denne del af arbejdet omtales ofte som `datacleaning` og `preprocessing`. Datacleaning og preprocessing kan være komplekse og tidskrævende processer, hvis der er tale om store tekst-korpusser. Kompleksiteten er imidlertid ofte et udtryk for, at man gør mange forskellige ting ved sine tekster, inden de er klar til analyse. De enkelte skridt i processen er ofte simple.\n",
    "\n",
    "I denne opgave skal I afprøve nogle simple `string methods` (dvs. funktioner der kun kan anvendes på tekststrenge), der kan være nyttige, når tekster skal renses og klargøres.\n",
    "\n",
    "**Husk** at **methods** noteres med punktum-notation, fx `variabelnavn.method_x()` (læses anvend `method_x` på indholdet af `variabelnavn`).\n",
    "\n",
    "Prøv at anvende følgende methods på den sammenføjede tekst. Husk at gemme outputtet i en ny variabel. Print reultatet, så I kan følge med i, hvad der sker.\n",
    "\n",
    "Eksempel:<br>\n",
    "`variabelnavn_4 = variabelnavn_3.upper()`<br>\n",
    "`print(variabelnavn_4)`\n",
    "\n",
    "Nyttige string methods:\n",
    "\n",
    "1. `.upper()` : konverterer alle bogstaver til store bogstaver\n",
    "1. `.lower()` : knoverterer alle bogstaver til små bogstaver\n",
    "1. `.strip()` : fjerner tegn i begyndelsen og slutningen af strengen - tegnet angivet i anførselstegn i patentesen, fx `.strip('.')`\n",
    "1. `.rstrip()`: fjerner kun tegn til højre i strengen\n",
    "1. `.lstrip()` : fjerner kun tegn til venstre i strengen\n",
    "1. `.replace(arg1, arg2)` : erstatter `argument 1`men `argument 2` fx, `.replace(\".\", \" \")`\n",
    "\n",
    "\n",
    "I kan bruge koden `dir (\"\")` til at se en samlet oversigt over `string methods`.\n",
    "\n",
    "Hvis I bruger koden `print(variabelnavn)` printes ren tekst. Hvis I blot taster `variabelnavn` printes indholdet af variablen. Afprøv begge dele, og overvej forskellen.\n"
   ]
  },
  {
   "cell_type": "code",
   "execution_count": null,
   "metadata": {},
   "outputs": [],
   "source": []
  },
  {
   "cell_type": "markdown",
   "metadata": {},
   "source": [
    "### Opgave 3\n",
    "En vigtig dele af af forberedelsen til tekstanalyse er ofte at dele strengen op i `tokens` dvs. enkeltord. Denne proces kaldes `tokenization`. Dette kan gøres på mange måder, men prøv med den indbyggede split-methods `variabelnavn.split()`.\n",
    "\n",
    "Eksempel:<br>\n",
    "`variabelnavn_5 = variabelnavn_3.split()`<br>\n",
    "`print(variabelnavn_5`<br>\n",
    "\n",
    "Hvis man anvender `.split()` er outpottet **ikke** en `string`, men en `liste`. Strenge og lister er ikke samme datatype! Hvis I vil se, hvilke datatype indholdet af en variabel har, kan I bruge følgende kode `type(variabelnavn)`.\n",
    "\n",
    "Prøv at splitte eksempel-teksten og overvej, hvad forskellen er på at arbejde med teksten som streng og som liste.\n"
   ]
  },
  {
   "cell_type": "code",
   "execution_count": null,
   "metadata": {},
   "outputs": [],
   "source": []
  }
 ],
 "metadata": {
  "kernelspec": {
   "display_name": "Python 3",
   "language": "python",
   "name": "python3"
  },
  "language_info": {
   "codemirror_mode": {
    "name": "ipython",
    "version": 3
   },
   "file_extension": ".py",
   "mimetype": "text/x-python",
   "name": "python",
   "nbconvert_exporter": "python",
   "pygments_lexer": "ipython3",
   "version": "3.8.3"
  }
 },
 "nbformat": 4,
 "nbformat_minor": 4
}
